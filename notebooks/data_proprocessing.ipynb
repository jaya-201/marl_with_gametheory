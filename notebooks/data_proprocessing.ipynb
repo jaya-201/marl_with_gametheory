{
 "cells": [
  {
   "cell_type": "code",
   "execution_count": 9,
   "id": "e36a65dc",
   "metadata": {},
   "outputs": [],
   "source": [
    "import pandas as pd\n",
    "import numpy as np"
   ]
  },
  {
   "cell_type": "code",
   "execution_count": 11,
   "id": "482e81e9",
   "metadata": {},
   "outputs": [],
   "source": [
    "df = pd.read_csv(r\"..\\data\\raw\\airline_ontime_2023\\Airline_Delay_Cause.csv\")"
   ]
  },
  {
   "cell_type": "code",
   "execution_count": null,
   "id": "c8f2880e",
   "metadata": {},
   "outputs": [],
   "source": [
    "#dropping duplicates and rows with no flights\n",
    "df = df.drop_duplicates()\n",
    "df = df[df[\"arr_flights\"] > 0]"
   ]
  },
  {
   "cell_type": "code",
   "execution_count": null,
   "id": "0a7cdc02",
   "metadata": {},
   "outputs": [],
   "source": [
    "#fixing column data types\n",
    "int_cols = [\"year\", \"month\", \"arr_flights\", \"arr_del15\", \"arr_cancelled\", \"arr_diverted\"]\n",
    "float_cols = [\"carrier_ct\", \"weather_ct\", \"nas_ct\", \"security_ct\", \"late_aircraft_ct\",\n",
    "              \"arr_delay\", \"carrier_delay\", \"weather_delay\", \"nas_delay\",\n",
    "              \"security_delay\", \"late_aircraft_delay\"]\n",
    "\n",
    "for col in int_cols:\n",
    "    df[col] = pd.to_numeric(df[col], errors=\"coerce\").fillna(0).astype(int)\n",
    "\n",
    "for col in float_cols:\n",
    "    df[col] = pd.to_numeric(df[col], errors=\"coerce\").fillna(0.0)"
   ]
  },
  {
   "cell_type": "code",
   "execution_count": 14,
   "id": "be42d746",
   "metadata": {},
   "outputs": [],
   "source": [
    "df[\"date\"] = pd.to_datetime(df[\"year\"].astype(str) + \"-\" + df[\"month\"].astype(str) + \"-01\")\n",
    "\n",
    "df[\"total_delay\"] = (\n",
    "    df[\"carrier_delay\"] + df[\"weather_delay\"] +\n",
    "    df[\"nas_delay\"] + df[\"security_delay\"] + df[\"late_aircraft_delay\"]\n",
    ")\n",
    "\n",
    "df[\"delay_ratio\"] = df[\"arr_del15\"] / df[\"arr_flights\"]\n",
    "\n",
    "df[\"cancel_ratio\"] = df[\"arr_cancelled\"] / df[\"arr_flights\"]"
   ]
  },
  {
   "cell_type": "code",
   "execution_count": 15,
   "id": "23eacae7",
   "metadata": {},
   "outputs": [],
   "source": [
    "#clipping negative delays\n",
    "delay_cols = [\"arr_delay\",\"carrier_delay\",\"weather_delay\",\"nas_delay\",\"security_delay\",\"late_aircraft_delay\"]\n",
    "df[delay_cols] = df[delay_cols].clip(lower=0)"
   ]
  },
  {
   "cell_type": "code",
   "execution_count": 16,
   "id": "e90049f9",
   "metadata": {},
   "outputs": [],
   "source": [
    "keep_cols = [\"date\",\"year\",\"month\",\"carrier\",\"carrier_name\",\"airport\",\"airport_name\",\n",
    "             \"arr_flights\",\"arr_del15\",\"arr_cancelled\",\"arr_diverted\",\n",
    "             \"total_delay\",\"delay_ratio\",\"cancel_ratio\"]\n",
    "\n",
    "df_clean = df[keep_cols]"
   ]
  },
  {
   "cell_type": "code",
   "execution_count": 18,
   "id": "31f1032c",
   "metadata": {},
   "outputs": [
    {
     "name": "stdout",
     "output_type": "stream",
     "text": [
      "Preprocessing complete! Cleaned file saved with 24468 rows.\n",
      "        date  year  month carrier       carrier_name airport  \\\n",
      "0 2024-01-01  2024      1      9E  Endeavor Air Inc.     ABE   \n",
      "1 2024-01-01  2024      1      9E  Endeavor Air Inc.     ABY   \n",
      "2 2024-01-01  2024      1      9E  Endeavor Air Inc.     AEX   \n",
      "3 2024-01-01  2024      1      9E  Endeavor Air Inc.     AGS   \n",
      "4 2024-01-01  2024      1      9E  Endeavor Air Inc.     ALB   \n",
      "\n",
      "                                        airport_name  arr_flights  arr_del15  \\\n",
      "0  Allentown/Bethlehem/Easton, PA: Lehigh Valley ...           80         16   \n",
      "1             Albany, GA: Southwest Georgia Regional            3          0   \n",
      "2           Alexandria, LA: Alexandria International           62          9   \n",
      "3        Augusta, GA: Augusta Regional at Bush Field           74         15   \n",
      "4                   Albany, NY: Albany International          101         23   \n",
      "\n",
      "   arr_cancelled  arr_diverted  total_delay  delay_ratio  cancel_ratio  \n",
      "0              0             2       1071.0     0.200000      0.000000  \n",
      "1              0             0          0.0     0.000000      0.000000  \n",
      "2              2             2        589.0     0.145161      0.032258  \n",
      "3              1             0       1285.0     0.202703      0.013514  \n",
      "4              5             0       1372.0     0.227723      0.049505  \n"
     ]
    }
   ],
   "source": [
    "df_clean.to_csv(\"../data/processed/airline_ontime_2023_clean.csv\", index=False)\n",
    "\n",
    "print(f\"Preprocessing complete! Cleaned file saved with {df_clean.shape[0]} rows.\")\n",
    "print(df_clean.head())"
   ]
  },
  {
   "cell_type": "code",
   "execution_count": null,
   "id": "ad3237eb",
   "metadata": {},
   "outputs": [],
   "source": []
  }
 ],
 "metadata": {
  "kernelspec": {
   "display_name": "Python 3",
   "language": "python",
   "name": "python3"
  },
  "language_info": {
   "codemirror_mode": {
    "name": "ipython",
    "version": 3
   },
   "file_extension": ".py",
   "mimetype": "text/x-python",
   "name": "python",
   "nbconvert_exporter": "python",
   "pygments_lexer": "ipython3",
   "version": "3.12.10"
  }
 },
 "nbformat": 4,
 "nbformat_minor": 5
}
