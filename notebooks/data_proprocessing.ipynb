{
 "cells": [
  {
   "cell_type": "code",
   "execution_count": 31,
   "id": "2bb29b1e",
   "metadata": {},
   "outputs": [],
   "source": [
    "import pandas as pd\n",
    "import os\n",
    "import numpy as np"
   ]
  },
  {
   "cell_type": "code",
   "execution_count": 12,
   "id": "0c85eab6",
   "metadata": {},
   "outputs": [],
   "source": [
    "df = pd.read_stata(r\"..\\data\\raw\\market_carrier_data\\mktdata79q1to16q3.dta\")"
   ]
  },
  {
   "cell_type": "code",
   "execution_count": null,
   "id": "165d9d80",
   "metadata": {},
   "outputs": [
    {
     "name": "stdout",
     "output_type": "stream",
     "text": [
      "<class 'pandas.core.frame.DataFrame'>\n",
      "RangeIndex: 19436121 entries, 0 to 19436120\n",
      "Data columns (total 11 columns):\n",
      " #   Column  Dtype  \n",
      "---  ------  -----  \n",
      " 0   cr1     object \n",
      " 1   cr2     object \n",
      " 2   yr      int16  \n",
      " 3   qtr     int8   \n",
      " 4   cop     int8   \n",
      " 5   ap1     object \n",
      " 6   ap2     object \n",
      " 7   pax     int32  \n",
      " 8   nsdst   int16  \n",
      " 9   avprc   float32\n",
      " 10  avdst   float32\n",
      "dtypes: float32(2), int16(2), int32(1), int8(2), object(4)\n",
      "memory usage: 926.8+ MB\n"
     ]
    }
   ],
   "source": [
    "df.info()\n",
    "#ap1 = origin airport\n",
    "#ap2 = destination airport\n",
    "#cr1 = ReportingCarrier\n",
    "#pax = no of Passengers\n",
    "#avprc = Average Price"
   ]
  },
  {
   "cell_type": "code",
   "execution_count": 14,
   "id": "58233c1e",
   "metadata": {},
   "outputs": [
    {
     "data": {
      "text/html": [
       "<div>\n",
       "<style scoped>\n",
       "    .dataframe tbody tr th:only-of-type {\n",
       "        vertical-align: middle;\n",
       "    }\n",
       "\n",
       "    .dataframe tbody tr th {\n",
       "        vertical-align: top;\n",
       "    }\n",
       "\n",
       "    .dataframe thead th {\n",
       "        text-align: right;\n",
       "    }\n",
       "</style>\n",
       "<table border=\"1\" class=\"dataframe\">\n",
       "  <thead>\n",
       "    <tr style=\"text-align: right;\">\n",
       "      <th></th>\n",
       "      <th>cr1</th>\n",
       "      <th>cr2</th>\n",
       "      <th>yr</th>\n",
       "      <th>qtr</th>\n",
       "      <th>cop</th>\n",
       "      <th>ap1</th>\n",
       "      <th>ap2</th>\n",
       "      <th>pax</th>\n",
       "      <th>nsdst</th>\n",
       "      <th>avprc</th>\n",
       "      <th>avdst</th>\n",
       "    </tr>\n",
       "  </thead>\n",
       "  <tbody>\n",
       "    <tr>\n",
       "      <th>0</th>\n",
       "      <td>AL</td>\n",
       "      <td>TW</td>\n",
       "      <td>1979</td>\n",
       "      <td>1</td>\n",
       "      <td>1</td>\n",
       "      <td>ABE</td>\n",
       "      <td>ABQ</td>\n",
       "      <td>2</td>\n",
       "      <td>1737</td>\n",
       "      <td>133.500</td>\n",
       "      <td>1771.0</td>\n",
       "    </tr>\n",
       "    <tr>\n",
       "      <th>1</th>\n",
       "      <td>CO</td>\n",
       "      <td>UA</td>\n",
       "      <td>1979</td>\n",
       "      <td>1</td>\n",
       "      <td>1</td>\n",
       "      <td>ABE</td>\n",
       "      <td>ABQ</td>\n",
       "      <td>1</td>\n",
       "      <td>1737</td>\n",
       "      <td>167.000</td>\n",
       "      <td>1771.0</td>\n",
       "    </tr>\n",
       "    <tr>\n",
       "      <th>2</th>\n",
       "      <td>TW</td>\n",
       "      <td>UA</td>\n",
       "      <td>1979</td>\n",
       "      <td>1</td>\n",
       "      <td>1</td>\n",
       "      <td>ABE</td>\n",
       "      <td>ABQ</td>\n",
       "      <td>8</td>\n",
       "      <td>1737</td>\n",
       "      <td>209.125</td>\n",
       "      <td>1771.0</td>\n",
       "    </tr>\n",
       "    <tr>\n",
       "      <th>3</th>\n",
       "      <td>TW</td>\n",
       "      <td>UK</td>\n",
       "      <td>1979</td>\n",
       "      <td>1</td>\n",
       "      <td>1</td>\n",
       "      <td>ABE</td>\n",
       "      <td>ABQ</td>\n",
       "      <td>1</td>\n",
       "      <td>1737</td>\n",
       "      <td>100.000</td>\n",
       "      <td>1771.0</td>\n",
       "    </tr>\n",
       "    <tr>\n",
       "      <th>4</th>\n",
       "      <td>--</td>\n",
       "      <td>EA</td>\n",
       "      <td>1979</td>\n",
       "      <td>1</td>\n",
       "      <td>1</td>\n",
       "      <td>ABE</td>\n",
       "      <td>ABY</td>\n",
       "      <td>1</td>\n",
       "      <td>798</td>\n",
       "      <td>95.000</td>\n",
       "      <td>839.0</td>\n",
       "    </tr>\n",
       "  </tbody>\n",
       "</table>\n",
       "</div>"
      ],
      "text/plain": [
       "  cr1 cr2    yr  qtr  cop  ap1  ap2  pax  nsdst    avprc   avdst\n",
       "0  AL  TW  1979    1    1  ABE  ABQ    2   1737  133.500  1771.0\n",
       "1  CO  UA  1979    1    1  ABE  ABQ    1   1737  167.000  1771.0\n",
       "2  TW  UA  1979    1    1  ABE  ABQ    8   1737  209.125  1771.0\n",
       "3  TW  UK  1979    1    1  ABE  ABQ    1   1737  100.000  1771.0\n",
       "4  --  EA  1979    1    1  ABE  ABY    1    798   95.000   839.0"
      ]
     },
     "execution_count": 14,
     "metadata": {},
     "output_type": "execute_result"
    }
   ],
   "source": [
    "df.head()"
   ]
  },
  {
   "cell_type": "code",
   "execution_count": 20,
   "id": "6f2e3c44",
   "metadata": {},
   "outputs": [],
   "source": [
    "ORIGIN_AIRPORT = 'BOS'\n",
    "DESTINATION_AIRPORT = 'LAX'\n",
    "processed_data_dir = '../data/processed'\n",
    "processed_filename = f'{ORIGIN_AIRPORT}_{DESTINATION_AIRPORT}_market_data.csv'\n",
    "processed_filepath = os.path.join(processed_data_dir, processed_filename)\n",
    "os.makedirs(processed_data_dir, exist_ok=True)"
   ]
  },
  {
   "cell_type": "code",
   "execution_count": 29,
   "id": "a9006991",
   "metadata": {},
   "outputs": [],
   "source": [
    "column_mapping = {\n",
    "    'ap1': 'Origin',\n",
    "    'ap2': 'Destination',\n",
    "    'cr1': 'ReportingCarrier',\n",
    "    'pax': 'Passengers',\n",
    "    'avprc': 'MktFare'\n",
    "}\n",
    "df.rename(columns=column_mapping, inplace=True)"
   ]
  },
  {
   "cell_type": "code",
   "execution_count": 32,
   "id": "053ccc72",
   "metadata": {},
   "outputs": [
    {
     "name": "stdout",
     "output_type": "stream",
     "text": [
      "Data cleaning complete.\n",
      "✅ Successfully saved clean data to: ../data/processed\\BOS_LAX_market_data.csv\n",
      "Clean data head:\n",
      "      Origin Destination Airline  Passengers     AvgFare\n",
      "20438    BOS         LAX      AA        3053  178.096954\n",
      "20439    BOS         LAX      AA         258  171.670547\n",
      "20440    BOS         LAX      AA           6  228.500000\n",
      "20441    BOS         LAX      AA           2  256.000000\n",
      "20442    BOS         LAX      AA           4  247.000000\n"
     ]
    }
   ],
   "source": [
    "required_cols = ['Origin', 'Destination', 'ReportingCarrier', 'Passengers', 'MktFare']\n",
    "if not all(col in df.columns for col in required_cols):\n",
    "    print(\"Error: Not all required columns were found after renaming. Please check the column_mapping.\")\n",
    "    print(\"Available columns:\", df.columns.tolist())\n",
    "else:\n",
    "    df_route = df[(df['Origin'] == ORIGIN_AIRPORT) & (df['Destination'] == DESTINATION_AIRPORT)].copy()\n",
    "\n",
    "    # --- 4. Select and Clean ---\n",
    "    # We select the newly renamed columns\n",
    "    df_clean = df_route[required_cols].copy()\n",
    "    df_clean = df_clean.rename(columns={'ReportingCarrier': 'Airline', 'MktFare': 'AvgFare'})\n",
    "\n",
    "    # --- THIS IS THE ADDED LINE ---\n",
    "    # Remove rows where the 'Airline' column is empty or missing\n",
    "    df_clean['Airline'] = df_clean['Airline'].replace('--', np.nan)\n",
    "    df_clean.dropna(subset=['Airline'], inplace=True)\n",
    "    # --------------------------------\n",
    "\n",
    "    df_clean['Passengers'] = pd.to_numeric(df_clean['Passengers'], errors='coerce')\n",
    "    df_clean['AvgFare'] = pd.to_numeric(df_clean['AvgFare'], errors='coerce')\n",
    "    df_clean.dropna(subset=['Passengers', 'AvgFare'], inplace=True)\n",
    "    df_clean = df_clean[(df_clean['Passengers'] > 0) & (df_clean['AvgFare'] > 50)]\n",
    "    df_clean['Passengers'] = df_clean['Passengers'].astype(int)\n",
    "    print(\"Data cleaning complete.\")\n",
    "\n",
    "    # --- 5. Save Processed File ---\n",
    "    df_clean.to_csv(processed_filepath, index=False)\n",
    "    print(f\"✅ Successfully saved clean data to: {processed_filepath}\")\n",
    "    print(\"Clean data head:\")\n",
    "    print(df_clean.head())"
   ]
  },
  {
   "cell_type": "code",
   "execution_count": 33,
   "id": "f66bd625",
   "metadata": {},
   "outputs": [
    {
     "name": "stdout",
     "output_type": "stream",
     "text": [
      "<class 'pandas.core.frame.DataFrame'>\n",
      "Index: 7858 entries, 20438 to 19311612\n",
      "Data columns (total 5 columns):\n",
      " #   Column       Non-Null Count  Dtype  \n",
      "---  ------       --------------  -----  \n",
      " 0   Origin       7858 non-null   object \n",
      " 1   Destination  7858 non-null   object \n",
      " 2   Airline      7858 non-null   object \n",
      " 3   Passengers   7858 non-null   int32  \n",
      " 4   AvgFare      7858 non-null   float32\n",
      "dtypes: float32(1), int32(1), object(3)\n",
      "memory usage: 307.0+ KB\n"
     ]
    }
   ],
   "source": [
    "df_clean.info()"
   ]
  },
  {
   "cell_type": "code",
   "execution_count": null,
   "id": "62e8406c",
   "metadata": {},
   "outputs": [],
   "source": []
  }
 ],
 "metadata": {
  "kernelspec": {
   "display_name": "Python 3",
   "language": "python",
   "name": "python3"
  },
  "language_info": {
   "codemirror_mode": {
    "name": "ipython",
    "version": 3
   },
   "file_extension": ".py",
   "mimetype": "text/x-python",
   "name": "python",
   "nbconvert_exporter": "python",
   "pygments_lexer": "ipython3",
   "version": "3.12.10"
  }
 },
 "nbformat": 4,
 "nbformat_minor": 5
}
