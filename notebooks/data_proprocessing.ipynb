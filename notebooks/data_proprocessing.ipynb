{
 "cells": [
  {
   "cell_type": "code",
   "execution_count": 9,
   "id": "e36a65dc",
   "metadata": {},
   "outputs": [],
   "source": [
    "import pandas as pd\n",
    "import numpy as np"
   ]
  },
  {
   "cell_type": "code",
   "execution_count": 31,
   "id": "482e81e9",
   "metadata": {},
   "outputs": [],
   "source": [
    "df = pd.read_csv(r\"..\\data\\raw\\airline_ontime_2023\\Airline_Delay_Cause.csv\")"
   ]
  },
  {
   "cell_type": "code",
   "execution_count": 32,
   "id": "935695b1",
   "metadata": {},
   "outputs": [
    {
     "name": "stdout",
     "output_type": "stream",
     "text": [
      "<class 'pandas.core.frame.DataFrame'>\n",
      "RangeIndex: 24518 entries, 0 to 24517\n",
      "Data columns (total 21 columns):\n",
      " #   Column               Non-Null Count  Dtype  \n",
      "---  ------               --------------  -----  \n",
      " 0   year                 24518 non-null  int64  \n",
      " 1   month                24518 non-null  int64  \n",
      " 2   carrier              24518 non-null  object \n",
      " 3   carrier_name         24518 non-null  object \n",
      " 4   airport              24518 non-null  object \n",
      " 5   airport_name         24518 non-null  object \n",
      " 6   arr_flights          24468 non-null  float64\n",
      " 7   arr_del15            24459 non-null  float64\n",
      " 8   carrier_ct           24468 non-null  float64\n",
      " 9   weather_ct           24468 non-null  float64\n",
      " 10  nas_ct               24468 non-null  float64\n",
      " 11  security_ct          24468 non-null  float64\n",
      " 12  late_aircraft_ct     24468 non-null  float64\n",
      " 13  arr_cancelled        24468 non-null  float64\n",
      " 14  arr_diverted         24468 non-null  float64\n",
      " 15  arr_delay            24468 non-null  float64\n",
      " 16  carrier_delay        24468 non-null  float64\n",
      " 17  weather_delay        24468 non-null  float64\n",
      " 18  nas_delay            24468 non-null  float64\n",
      " 19  security_delay       24468 non-null  float64\n",
      " 20  late_aircraft_delay  24468 non-null  float64\n",
      "dtypes: float64(15), int64(2), object(4)\n",
      "memory usage: 3.9+ MB\n"
     ]
    }
   ],
   "source": [
    "df.info()"
   ]
  },
  {
   "cell_type": "code",
   "execution_count": null,
   "id": "c8f2880e",
   "metadata": {},
   "outputs": [],
   "source": [
    "#dropping duplicates and rows with no flights\n",
    "df = df.drop_duplicates()\n",
    "df = df[df[\"arr_flights\"] > 0]"
   ]
  },
  {
   "cell_type": "code",
   "execution_count": null,
   "id": "0a7cdc02",
   "metadata": {},
   "outputs": [],
   "source": [
    "#fixing column data types\n",
    "int_cols = [\"year\", \"month\", \"arr_flights\", \"arr_del15\", \"arr_cancelled\", \"arr_diverted\"]\n",
    "float_cols = [\"carrier_ct\", \"weather_ct\", \"nas_ct\", \"security_ct\", \"late_aircraft_ct\",\n",
    "              \"arr_delay\", \"carrier_delay\", \"weather_delay\", \"nas_delay\",\n",
    "              \"security_delay\", \"late_aircraft_delay\"]\n",
    "\n",
    "for col in int_cols:\n",
    "    df[col] = pd.to_numeric(df[col], errors=\"coerce\").fillna(0).astype(int)\n",
    "\n",
    "for col in float_cols:\n",
    "    df[col] = pd.to_numeric(df[col], errors=\"coerce\").fillna(0.0)"
   ]
  },
  {
   "cell_type": "code",
   "execution_count": 14,
   "id": "be42d746",
   "metadata": {},
   "outputs": [],
   "source": [
    "df[\"date\"] = pd.to_datetime(df[\"year\"].astype(str) + \"-\" + df[\"month\"].astype(str) + \"-01\")\n",
    "\n",
    "df[\"total_delay\"] = (\n",
    "    df[\"carrier_delay\"] + df[\"weather_delay\"] +\n",
    "    df[\"nas_delay\"] + df[\"security_delay\"] + df[\"late_aircraft_delay\"]\n",
    ")\n",
    "\n",
    "df[\"delay_ratio\"] = df[\"arr_del15\"] / df[\"arr_flights\"]\n",
    "\n",
    "df[\"cancel_ratio\"] = df[\"arr_cancelled\"] / df[\"arr_flights\"]"
   ]
  },
  {
   "cell_type": "code",
   "execution_count": 15,
   "id": "23eacae7",
   "metadata": {},
   "outputs": [],
   "source": [
    "#clipping negative delays\n",
    "delay_cols = [\"arr_delay\",\"carrier_delay\",\"weather_delay\",\"nas_delay\",\"security_delay\",\"late_aircraft_delay\"]\n",
    "df[delay_cols] = df[delay_cols].clip(lower=0)"
   ]
  },
  {
   "cell_type": "code",
   "execution_count": 16,
   "id": "e90049f9",
   "metadata": {},
   "outputs": [],
   "source": [
    "keep_cols = [\"date\",\"year\",\"month\",\"carrier\",\"carrier_name\",\"airport\",\"airport_name\",\n",
    "             \"arr_flights\",\"arr_del15\",\"arr_cancelled\",\"arr_diverted\",\n",
    "             \"total_delay\",\"delay_ratio\",\"cancel_ratio\"]\n",
    "\n",
    "df_clean = df[keep_cols]"
   ]
  },
  {
   "cell_type": "code",
   "execution_count": 18,
   "id": "31f1032c",
   "metadata": {},
   "outputs": [
    {
     "name": "stdout",
     "output_type": "stream",
     "text": [
      "Preprocessing complete! Cleaned file saved with 24468 rows.\n",
      "        date  year  month carrier       carrier_name airport  \\\n",
      "0 2024-01-01  2024      1      9E  Endeavor Air Inc.     ABE   \n",
      "1 2024-01-01  2024      1      9E  Endeavor Air Inc.     ABY   \n",
      "2 2024-01-01  2024      1      9E  Endeavor Air Inc.     AEX   \n",
      "3 2024-01-01  2024      1      9E  Endeavor Air Inc.     AGS   \n",
      "4 2024-01-01  2024      1      9E  Endeavor Air Inc.     ALB   \n",
      "\n",
      "                                        airport_name  arr_flights  arr_del15  \\\n",
      "0  Allentown/Bethlehem/Easton, PA: Lehigh Valley ...           80         16   \n",
      "1             Albany, GA: Southwest Georgia Regional            3          0   \n",
      "2           Alexandria, LA: Alexandria International           62          9   \n",
      "3        Augusta, GA: Augusta Regional at Bush Field           74         15   \n",
      "4                   Albany, NY: Albany International          101         23   \n",
      "\n",
      "   arr_cancelled  arr_diverted  total_delay  delay_ratio  cancel_ratio  \n",
      "0              0             2       1071.0     0.200000      0.000000  \n",
      "1              0             0          0.0     0.000000      0.000000  \n",
      "2              2             2        589.0     0.145161      0.032258  \n",
      "3              1             0       1285.0     0.202703      0.013514  \n",
      "4              5             0       1372.0     0.227723      0.049505  \n"
     ]
    }
   ],
   "source": [
    "df_clean.to_csv(\"../data/processed/airline_ontime_2023_clean.csv\", index=False)\n",
    "\n",
    "print(f\"Preprocessing complete! Cleaned file saved with {df_clean.shape[0]} rows.\")\n",
    "print(df_clean.head())"
   ]
  },
  {
   "cell_type": "markdown",
   "id": "50b6496c",
   "metadata": {},
   "source": [
    "PREPROCESSING FOR LAX-JFK ROUTE"
   ]
  },
  {
   "cell_type": "code",
   "execution_count": 19,
   "id": "ad3237eb",
   "metadata": {},
   "outputs": [],
   "source": [
    "import pandas as pd\n",
    "import numpy as np\n",
    "from pathlib import Path"
   ]
  },
  {
   "cell_type": "code",
   "execution_count": 35,
   "id": "1f968a20",
   "metadata": {},
   "outputs": [],
   "source": [
    "raw_path = Path(r\"..\\data\\raw\\airline_ontime_2023\\Airline_Delay_Cause.csv\")\n",
    "ds = pd.read_csv(raw_path)"
   ]
  },
  {
   "cell_type": "code",
   "execution_count": 36,
   "id": "5126bbb8",
   "metadata": {},
   "outputs": [],
   "source": [
    "ds = ds[ds[\"airport\"] == \"JFK\"]"
   ]
  },
  {
   "cell_type": "code",
   "execution_count": 37,
   "id": "de24cba5",
   "metadata": {},
   "outputs": [],
   "source": [
    "cols_to_keep = [\n",
    "    \"airport\", \"month\", \"carrier\",\n",
    "    \"arr_flights\", \"arr_del15\", \"arr_cancelled\", \"arr_diverted\",\n",
    "    \"carrier_ct\", \"weather_ct\", \"nas_ct\", \"security_ct\", \"late_aircraft_ct\"\n",
    "]\n",
    "ds = ds[cols_to_keep]"
   ]
  },
  {
   "cell_type": "code",
   "execution_count": 38,
   "id": "80d26f4d",
   "metadata": {},
   "outputs": [],
   "source": [
    "ds = ds.dropna()\n",
    "ds = ds[ds[\"arr_flights\"] > 0]"
   ]
  },
  {
   "cell_type": "code",
   "execution_count": 39,
   "id": "489dcd65",
   "metadata": {},
   "outputs": [],
   "source": [
    "ds[\"delay_ratio\"] = ds[\"arr_del15\"] / ds[\"arr_flights\"]\n",
    "ds[\"cancel_ratio\"] = ds[\"arr_cancelled\"] / ds[\"arr_flights\"]\n",
    "ds[\"divert_ratio\"] = ds[\"arr_diverted\"] / ds[\"arr_flights\"]"
   ]
  },
  {
   "cell_type": "code",
   "execution_count": 40,
   "id": "d386eb2c",
   "metadata": {},
   "outputs": [],
   "source": [
    "delay_causes = [\"carrier_ct\", \"weather_ct\", \"nas_ct\", \"security_ct\", \"late_aircraft_ct\"]\n",
    "for cause in delay_causes:\n",
    "    ds[f\"{cause}_ratio\"] = ds[cause] / ds[\"arr_flights\"]"
   ]
  },
  {
   "cell_type": "code",
   "execution_count": 41,
   "id": "85ab302c",
   "metadata": {},
   "outputs": [],
   "source": [
    "ds = ds.reset_index(drop=True)"
   ]
  },
  {
   "cell_type": "code",
   "execution_count": 42,
   "id": "9f9ddee0",
   "metadata": {},
   "outputs": [
    {
     "name": "stdout",
     "output_type": "stream",
     "text": [
      "Processed data saved to ..\\data\\processed\\jfk_processed.csv\n",
      "  airport  month carrier  arr_flights  arr_del15  arr_cancelled  arr_diverted  \\\n",
      "0     JFK      1      9E       1428.0      276.0           69.0           1.0   \n",
      "1     JFK      1      AA       1295.0      293.0           11.0           4.0   \n",
      "2     JFK      1      YX       1195.0      179.0           44.0           0.0   \n",
      "3     JFK      1      AS        239.0       41.0           85.0           1.0   \n",
      "4     JFK      1      B6       2690.0      747.0           48.0           9.0   \n",
      "\n",
      "   carrier_ct  weather_ct  nas_ct  security_ct  late_aircraft_ct  delay_ratio  \\\n",
      "0       64.68       15.91   90.86         0.00            104.55     0.193277   \n",
      "1      103.67       15.31   81.22         1.29             91.51     0.226255   \n",
      "2       45.35       12.74   71.83         0.69             48.39     0.149791   \n",
      "3        9.64        3.59   15.76         0.00             12.00     0.171548   \n",
      "4      250.25       11.78  187.99         0.00            296.98     0.277695   \n",
      "\n",
      "   cancel_ratio  divert_ratio  carrier_ct_ratio  weather_ct_ratio  \\\n",
      "0      0.048319      0.000700          0.045294          0.011141   \n",
      "1      0.008494      0.003089          0.080054          0.011822   \n",
      "2      0.036820      0.000000          0.037950          0.010661   \n",
      "3      0.355649      0.004184          0.040335          0.015021   \n",
      "4      0.017844      0.003346          0.093030          0.004379   \n",
      "\n",
      "   nas_ct_ratio  security_ct_ratio  late_aircraft_ct_ratio  \n",
      "0      0.063627           0.000000                0.073214  \n",
      "1      0.062718           0.000996                0.070664  \n",
      "2      0.060109           0.000577                0.040494  \n",
      "3      0.065941           0.000000                0.050209  \n",
      "4      0.069885           0.000000                0.110401  \n"
     ]
    }
   ],
   "source": [
    "processed_path = Path(\"../data/processed/jfk_processed.csv\")\n",
    "ds.to_csv(processed_path, index=False)\n",
    "\n",
    "print(f\"Processed data saved to {processed_path}\")\n",
    "print(ds.head())"
   ]
  },
  {
   "cell_type": "code",
   "execution_count": 43,
   "id": "abc69670",
   "metadata": {},
   "outputs": [
    {
     "name": "stdout",
     "output_type": "stream",
     "text": [
      "<class 'pandas.core.frame.DataFrame'>\n",
      "RangeIndex: 104 entries, 0 to 103\n",
      "Data columns (total 20 columns):\n",
      " #   Column                  Non-Null Count  Dtype  \n",
      "---  ------                  --------------  -----  \n",
      " 0   airport                 104 non-null    object \n",
      " 1   month                   104 non-null    int64  \n",
      " 2   carrier                 104 non-null    object \n",
      " 3   arr_flights             104 non-null    float64\n",
      " 4   arr_del15               104 non-null    float64\n",
      " 5   arr_cancelled           104 non-null    float64\n",
      " 6   arr_diverted            104 non-null    float64\n",
      " 7   carrier_ct              104 non-null    float64\n",
      " 8   weather_ct              104 non-null    float64\n",
      " 9   nas_ct                  104 non-null    float64\n",
      " 10  security_ct             104 non-null    float64\n",
      " 11  late_aircraft_ct        104 non-null    float64\n",
      " 12  delay_ratio             104 non-null    float64\n",
      " 13  cancel_ratio            104 non-null    float64\n",
      " 14  divert_ratio            104 non-null    float64\n",
      " 15  carrier_ct_ratio        104 non-null    float64\n",
      " 16  weather_ct_ratio        104 non-null    float64\n",
      " 17  nas_ct_ratio            104 non-null    float64\n",
      " 18  security_ct_ratio       104 non-null    float64\n",
      " 19  late_aircraft_ct_ratio  104 non-null    float64\n",
      "dtypes: float64(17), int64(1), object(2)\n",
      "memory usage: 16.4+ KB\n"
     ]
    }
   ],
   "source": [
    "ds.info()"
   ]
  },
  {
   "cell_type": "code",
   "execution_count": 45,
   "id": "72f4c8b1",
   "metadata": {},
   "outputs": [],
   "source": [
    "og= pd.read_csv(r\"..\\data\\raw\\airline_ontime_2023\\Airline_Delay_Cause.csv\")"
   ]
  },
  {
   "cell_type": "code",
   "execution_count": 46,
   "id": "4bdc9e1d",
   "metadata": {},
   "outputs": [
    {
     "name": "stdout",
     "output_type": "stream",
     "text": [
      "<class 'pandas.core.frame.DataFrame'>\n",
      "RangeIndex: 24518 entries, 0 to 24517\n",
      "Data columns (total 21 columns):\n",
      " #   Column               Non-Null Count  Dtype  \n",
      "---  ------               --------------  -----  \n",
      " 0   year                 24518 non-null  int64  \n",
      " 1   month                24518 non-null  int64  \n",
      " 2   carrier              24518 non-null  object \n",
      " 3   carrier_name         24518 non-null  object \n",
      " 4   airport              24518 non-null  object \n",
      " 5   airport_name         24518 non-null  object \n",
      " 6   arr_flights          24468 non-null  float64\n",
      " 7   arr_del15            24459 non-null  float64\n",
      " 8   carrier_ct           24468 non-null  float64\n",
      " 9   weather_ct           24468 non-null  float64\n",
      " 10  nas_ct               24468 non-null  float64\n",
      " 11  security_ct          24468 non-null  float64\n",
      " 12  late_aircraft_ct     24468 non-null  float64\n",
      " 13  arr_cancelled        24468 non-null  float64\n",
      " 14  arr_diverted         24468 non-null  float64\n",
      " 15  arr_delay            24468 non-null  float64\n",
      " 16  carrier_delay        24468 non-null  float64\n",
      " 17  weather_delay        24468 non-null  float64\n",
      " 18  nas_delay            24468 non-null  float64\n",
      " 19  security_delay       24468 non-null  float64\n",
      " 20  late_aircraft_delay  24468 non-null  float64\n",
      "dtypes: float64(15), int64(2), object(4)\n",
      "memory usage: 3.9+ MB\n"
     ]
    }
   ],
   "source": [
    "og.info()"
   ]
  },
  {
   "cell_type": "code",
   "execution_count": null,
   "id": "6f1516b1",
   "metadata": {},
   "outputs": [],
   "source": []
  }
 ],
 "metadata": {
  "kernelspec": {
   "display_name": "Python 3",
   "language": "python",
   "name": "python3"
  },
  "language_info": {
   "codemirror_mode": {
    "name": "ipython",
    "version": 3
   },
   "file_extension": ".py",
   "mimetype": "text/x-python",
   "name": "python",
   "nbconvert_exporter": "python",
   "pygments_lexer": "ipython3",
   "version": "3.12.10"
  }
 },
 "nbformat": 4,
 "nbformat_minor": 5
}
