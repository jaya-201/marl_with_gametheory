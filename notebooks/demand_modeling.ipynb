{
 "cells": [
  {
   "cell_type": "markdown",
   "id": "d0a442df",
   "metadata": {},
   "source": [
    "Trains a simple regression model that predicts how many passengers will buy tickets depending on the offered price. provides realistic customer behavior."
   ]
  },
  {
   "cell_type": "markdown",
   "id": "20c8d7a9",
   "metadata": {},
   "source": [
    "all airlines pick fares\n",
    "\n",
    "each .pkl model predicts how many passangers that airline attacks\n",
    "\n",
    "calculates Revenue = fare * passengers\n",
    "\n",
    "reward fed back into PPO"
   ]
  },
  {
   "cell_type": "code",
   "execution_count": 1,
   "id": "7b58a235",
   "metadata": {},
   "outputs": [],
   "source": [
    "import pandas as pd\n",
    "import os\n",
    "from sklearn.linear_model import LinearRegression\n",
    "import joblib"
   ]
  },
  {
   "cell_type": "code",
   "execution_count": 2,
   "id": "0b2421f5",
   "metadata": {},
   "outputs": [
    {
     "name": "stdout",
     "output_type": "stream",
     "text": [
      "Loaded dataset, shape: (124, 5)\n",
      "  MarketID  Quarter Airline  Passengers     AvgFare\n",
      "0     MKT1        1      DL         156  489.845500\n",
      "1     MKT1        1      UA          70  178.009320\n",
      "2     MKT1        1      AA         264  129.041806\n",
      "3     MKT1        1      B6         137  266.854306\n",
      "4     MKT1        2      UA         393  516.221320\n"
     ]
    }
   ],
   "source": [
    "df = pd.read_csv(\"../data/synthetic_airline_data.csv\")\n",
    "print(\"Loaded dataset, shape:\", df.shape)\n",
    "print(df.head())"
   ]
  },
  {
   "cell_type": "code",
   "execution_count": null,
   "id": "20faf85c",
   "metadata": {},
   "outputs": [
    {
     "name": "stdout",
     "output_type": "stream",
     "text": [
      "\n",
      " Pivoted dataset, shape: (16, 8)\n",
      "                  AvgFare_AA  AvgFare_B6  AvgFare_DL  AvgFare_UA  \\\n",
      "MarketID Quarter                                                   \n",
      "MKT1     1        129.041806  266.854306  489.845500  178.009320   \n",
      "         2        191.702255  100.389383  362.378216  516.221320   \n",
      "MKT10    2        197.136977  350.758147  450.983439  140.797090   \n",
      "MKT2     1        442.116513  107.983126  574.442769  381.644109   \n",
      "         2        117.194261  312.577937  295.530304  431.261142   \n",
      "\n",
      "                  Passengers_AA  Passengers_B6  Passengers_DL  Passengers_UA  \n",
      "MarketID Quarter                                                              \n",
      "MKT1     1                264.0          137.0          156.0           70.0  \n",
      "         2                493.0          343.0          363.0          393.0  \n",
      "MKT10    2                222.0          440.0          313.0           62.0  \n",
      "MKT2     1                435.0          314.0          323.0          365.0  \n",
      "         2                313.0           51.0          255.0           99.0  \n"
     ]
    }
   ],
   "source": [
    "#market in one quarter, with all airlines fares + passengers lined up\n",
    "df_pivot = df.pivot_table(\n",
    "    index=[\"MarketID\", \"Quarter\"],\n",
    "    columns=\"Airline\",\n",
    "    values=[\"Passengers\", \"AvgFare\"]\n",
    ")\n",
    "\n",
    "# Flatten multi-index columns\n",
    "df_pivot.columns = ['_'.join(col).strip() for col in df_pivot.columns.values]\n",
    "df_pivot = df_pivot.dropna()  # Drop rows missing any airline\n",
    "print(\"\\n Pivoted dataset, shape:\", df_pivot.shape)\n",
    "print(df_pivot.head())"
   ]
  },
  {
   "cell_type": "code",
   "execution_count": null,
   "id": "66822cc2",
   "metadata": {},
   "outputs": [
    {
     "name": "stdout",
     "output_type": "stream",
     "text": [
      "\n",
      "Competing airlines: ['DL', 'UA', 'AA', 'B6']\n",
      "Demand model for DL trained (R² = 0.417)\n",
      "Demand model for UA trained (R² = 0.474)\n",
      "Demand model for AA trained (R² = 0.429)\n",
      "Demand model for B6 trained (R² = 0.173)\n",
      "\n",
      " All models trained and saved in 'models/' folder.\n"
     ]
    }
   ],
   "source": [
    "airlines = df[\"Airline\"].unique().tolist()\n",
    "print(\"\\nCompeting airlines:\", airlines)\n",
    "os.makedirs(\"models\", exist_ok=True)\n",
    "\n",
    "for airline in airlines:\n",
    "    #all average fares across all airlines\n",
    "    feature_cols = [f\"AvgFare_{a}\" for a in airlines if f\"AvgFare_{a}\" in df_pivot.columns]\n",
    "    target_col = f\"Passengers_{airline}\"\n",
    "\n",
    "    if target_col not in df_pivot.columns:\n",
    "        print(f\"Skipping {airline} (not enough data).\")\n",
    "        continue\n",
    "\n",
    "    X = df_pivot[feature_cols]\n",
    "    y = df_pivot[target_col]\n",
    "\n",
    "    model = LinearRegression()\n",
    "    model.fit(X, y)\n",
    "\n",
    "    r2 = model.score(X, y)\n",
    "    print(f\"Demand model for {airline} trained (R² = {r2:.3f})\")\n",
    "\n",
    "    # Save model\n",
    "    joblib.dump(model, f\"models/demand_model_{airline}.pkl\")\n",
    "\n",
    "print(\"\\n All models trained and saved in 'models/' folder.\")"
   ]
  },
  {
   "cell_type": "code",
   "execution_count": 6,
   "id": "d0a06065",
   "metadata": {},
   "outputs": [
    {
     "name": "stdout",
     "output_type": "stream",
     "text": [
      "<class 'pandas.core.frame.DataFrame'>\n",
      "RangeIndex: 124 entries, 0 to 123\n",
      "Data columns (total 5 columns):\n",
      " #   Column      Non-Null Count  Dtype  \n",
      "---  ------      --------------  -----  \n",
      " 0   MarketID    124 non-null    object \n",
      " 1   Quarter     124 non-null    int64  \n",
      " 2   Airline     124 non-null    object \n",
      " 3   Passengers  124 non-null    int64  \n",
      " 4   AvgFare     124 non-null    float64\n",
      "dtypes: float64(1), int64(2), object(2)\n",
      "memory usage: 5.0+ KB\n",
      "<class 'pandas.core.frame.DataFrame'>\n",
      "MultiIndex: 16 entries, ('MKT1', np.int64(1)) to ('MKT9', np.int64(4))\n",
      "Data columns (total 8 columns):\n",
      " #   Column         Non-Null Count  Dtype  \n",
      "---  ------         --------------  -----  \n",
      " 0   AvgFare_AA     16 non-null     float64\n",
      " 1   AvgFare_B6     16 non-null     float64\n",
      " 2   AvgFare_DL     16 non-null     float64\n",
      " 3   AvgFare_UA     16 non-null     float64\n",
      " 4   Passengers_AA  16 non-null     float64\n",
      " 5   Passengers_B6  16 non-null     float64\n",
      " 6   Passengers_DL  16 non-null     float64\n",
      " 7   Passengers_UA  16 non-null     float64\n",
      "dtypes: float64(8)\n",
      "memory usage: 1.5+ KB\n"
     ]
    }
   ],
   "source": [
    "df.info()\n",
    "df_pivot.info()"
   ]
  },
  {
   "cell_type": "code",
   "execution_count": null,
   "id": "9c07680a",
   "metadata": {},
   "outputs": [
    {
     "name": "stdout",
     "output_type": "stream",
     "text": [
      "Predicted passengers for AA: 292.14\n"
     ]
    },
    {
     "name": "stderr",
     "output_type": "stream",
     "text": [
      "C:\\Users\\Jaya\\AppData\\Roaming\\Python\\Python312\\site-packages\\sklearn\\utils\\validation.py:2749: UserWarning: X does not have valid feature names, but LinearRegression was fitted with feature names\n",
      "  warnings.warn(\n"
     ]
    }
   ],
   "source": [
    "#example\n",
    "import numpy as np\n",
    "\n",
    "model = joblib.load(\"models/demand_model_AA.pkl\")\n",
    "\n",
    "fares = np.array([[300, 320, 340, 350]])  # [Fare_AA, Fare_DL, Fare_UA, Fare_B6]\n",
    "\n",
    "predicted_passengers = model.predict(fares)[0]\n",
    "print(f\"Predicted passengers for AA: {predicted_passengers:.2f}\")"
   ]
  },
  {
   "cell_type": "markdown",
   "id": "5a7a6b16",
   "metadata": {},
   "source": [
    "Agents supply ticket prices\n",
    "\n",
    "Demand model estimates market response.\n",
    "\n",
    "PPO agents learn to set fares to maximize revenue in competition."
   ]
  }
 ],
 "metadata": {
  "kernelspec": {
   "display_name": "Python 3",
   "language": "python",
   "name": "python3"
  },
  "language_info": {
   "codemirror_mode": {
    "name": "ipython",
    "version": 3
   },
   "file_extension": ".py",
   "mimetype": "text/x-python",
   "name": "python",
   "nbconvert_exporter": "python",
   "pygments_lexer": "ipython3",
   "version": "3.12.10"
  }
 },
 "nbformat": 4,
 "nbformat_minor": 5
}
