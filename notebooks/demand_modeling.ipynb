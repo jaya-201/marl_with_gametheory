{
 "cells": [
  {
   "cell_type": "code",
   "execution_count": 1,
   "id": "7b58a235",
   "metadata": {},
   "outputs": [],
   "source": [
    "import pandas as pd\n",
    "import os\n",
    "from sklearn.linear_model import LinearRegression\n",
    "import joblib"
   ]
  },
  {
   "cell_type": "code",
   "execution_count": null,
   "id": "0b2421f5",
   "metadata": {},
   "outputs": [
    {
     "name": "stdout",
     "output_type": "stream",
     "text": [
      "✅ Loaded dataset, shape: (124, 5)\n",
      "  MarketID  Quarter Airline  Passengers     AvgFare\n",
      "0     MKT1        1      DL         156  489.845500\n",
      "1     MKT1        1      UA          70  178.009320\n",
      "2     MKT1        1      AA         264  129.041806\n",
      "3     MKT1        1      B6         137  266.854306\n",
      "4     MKT1        2      UA         393  516.221320\n"
     ]
    }
   ],
   "source": [
    "df = pd.read_csv(\"../data/synthetic_airline_data.csv\")\n",
    "print(\"Loaded dataset, shape:\", df.shape)\n",
    "print(df.head())"
   ]
  },
  {
   "cell_type": "code",
   "execution_count": 3,
   "id": "20faf85c",
   "metadata": {},
   "outputs": [
    {
     "name": "stdout",
     "output_type": "stream",
     "text": [
      "\n",
      " Pivoted dataset, shape: (16, 8)\n",
      "                  AvgFare_AA  AvgFare_B6  AvgFare_DL  AvgFare_UA  \\\n",
      "MarketID Quarter                                                   \n",
      "MKT1     1        129.041806  266.854306  489.845500  178.009320   \n",
      "         2        191.702255  100.389383  362.378216  516.221320   \n",
      "MKT10    2        197.136977  350.758147  450.983439  140.797090   \n",
      "MKT2     1        442.116513  107.983126  574.442769  381.644109   \n",
      "         2        117.194261  312.577937  295.530304  431.261142   \n",
      "\n",
      "                  Passengers_AA  Passengers_B6  Passengers_DL  Passengers_UA  \n",
      "MarketID Quarter                                                              \n",
      "MKT1     1                264.0          137.0          156.0           70.0  \n",
      "         2                493.0          343.0          363.0          393.0  \n",
      "MKT10    2                222.0          440.0          313.0           62.0  \n",
      "MKT2     1                435.0          314.0          323.0          365.0  \n",
      "         2                313.0           51.0          255.0           99.0  \n"
     ]
    }
   ],
   "source": [
    "df_pivot = df.pivot_table(\n",
    "    index=[\"MarketID\", \"Quarter\"],\n",
    "    columns=\"Airline\",\n",
    "    values=[\"Passengers\", \"AvgFare\"]\n",
    ")\n",
    "\n",
    "# Flatten multi-index columns\n",
    "df_pivot.columns = ['_'.join(col).strip() for col in df_pivot.columns.values]\n",
    "df_pivot = df_pivot.dropna()  # Drop rows missing any airline\n",
    "print(\"\\n Pivoted dataset, shape:\", df_pivot.shape)\n",
    "print(df_pivot.head())"
   ]
  },
  {
   "cell_type": "code",
   "execution_count": 5,
   "id": "66822cc2",
   "metadata": {},
   "outputs": [
    {
     "name": "stdout",
     "output_type": "stream",
     "text": [
      "\n",
      "Competing airlines: ['DL', 'UA', 'AA', 'B6']\n",
      "Demand model for DL trained (R² = 0.417)\n",
      "Demand model for UA trained (R² = 0.474)\n",
      "Demand model for AA trained (R² = 0.429)\n",
      "Demand model for B6 trained (R² = 0.173)\n",
      "\n",
      " All models trained and saved in 'models/' folder.\n"
     ]
    }
   ],
   "source": [
    "airlines = df[\"Airline\"].unique().tolist()\n",
    "print(\"\\nCompeting airlines:\", airlines)\n",
    "os.makedirs(\"models\", exist_ok=True)\n",
    "\n",
    "for airline in airlines:\n",
    "    feature_cols = [f\"AvgFare_{a}\" for a in airlines if f\"AvgFare_{a}\" in df_pivot.columns]\n",
    "    target_col = f\"Passengers_{airline}\"\n",
    "\n",
    "    if target_col not in df_pivot.columns:\n",
    "        print(f\"Skipping {airline} (not enough data).\")\n",
    "        continue\n",
    "\n",
    "    X = df_pivot[feature_cols]\n",
    "    y = df_pivot[target_col]\n",
    "\n",
    "    model = LinearRegression()\n",
    "    model.fit(X, y)\n",
    "\n",
    "    r2 = model.score(X, y)\n",
    "    print(f\"Demand model for {airline} trained (R² = {r2:.3f})\")\n",
    "\n",
    "    # Save model\n",
    "    joblib.dump(model, f\"models/demand_model_{airline}.pkl\")\n",
    "\n",
    "print(\"\\n All models trained and saved in 'models/' folder.\")"
   ]
  }
 ],
 "metadata": {
  "kernelspec": {
   "display_name": "Python 3",
   "language": "python",
   "name": "python3"
  },
  "language_info": {
   "codemirror_mode": {
    "name": "ipython",
    "version": 3
   },
   "file_extension": ".py",
   "mimetype": "text/x-python",
   "name": "python",
   "nbconvert_exporter": "python",
   "pygments_lexer": "ipython3",
   "version": "3.12.10"
  }
 },
 "nbformat": 4,
 "nbformat_minor": 5
}
